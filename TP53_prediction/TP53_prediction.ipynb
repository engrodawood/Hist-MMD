{
  "cells": [
    {
      "cell_type": "markdown",
      "metadata": {
        "id": "9VEEbu7IralK"
      },
      "source": [
        "# Setup Environment"
      ]
    },
    {
      "cell_type": "code",
      "execution_count": 1,
      "metadata": {
        "id": "1i1blic7rZ32"
      },
      "outputs": [],
      "source": [
        "import pandas as pd\n",
        "import os\n",
        "import numpy as np\n",
        "from scipy import stats\n",
        "\n",
        "from sklearn.model_selection import StratifiedKFold\n",
        "from sklearn.svm import SVC\n",
        "from sklearn.svm import SVR\n",
        "from sklearn.metrics import roc_auc_score, auc, roc_curve,r2_score\n",
        "\n",
        "from sklearn.model_selection import train_test_split\n",
        "\n",
        "import random\n",
        "\n",
        "import matplotlib.pyplot as plt"
      ]
    },
    {
      "cell_type": "markdown",
      "metadata": {
        "id": "iGJaqyonrmVQ"
      },
      "source": [
        "Tunable hyperparameters"
      ]
    },
    {
      "cell_type": "code",
      "execution_count": 2,
      "metadata": {
        "id": "nvSM20tqrdFJ"
      },
      "outputs": [],
      "source": [
        "C_VALUES = [0.0001, 0.001, 0.1, 1, 10, 100, 1000,10000]\n",
        "GAMMA_VALUES = [4.0, 8.0, 16.0, 32.0, 64.0,128.0,256.0,512.0,1024.0]"
      ]
    },
    {
      "cell_type": "markdown",
      "metadata": {
        "id": "U4nW8t1arsNO"
      },
      "source": [
        "Import files"
      ]
    },
    {
      "cell_type": "code",
      "execution_count": 3,
      "metadata": {
        "id": "qj1htx3arjE0"
      },
      "outputs": [],
      "source": [
        "HUI_DATA_SPLIT = np.load('/content/drive/MyDrive/Hist-MMD/TP53_prediction/data_split.npy',allow_pickle=True)\n",
        "\n",
        "D = np.load('/content/drive/MyDrive/Hist-MMD/MMD_distance_matrix_generator/D_652_blur_10.npy')\n",
        "idx = np.load('/content/drive/MyDrive/Hist-MMD/MMD_distance_matrix_generator/slide_IDs_652.npy')\n",
        "\n",
        "POINT_MUTATION_LABELS_CSV = pd.read_csv('/content/drive/MyDrive/Hist-MMD/TP53_prediction/sample_matrix_point_mutation.txt', delimiter = \"\\t\")\n",
        "POINT_MUTATION_LABELS_CSV['studyID:sampleId'] = POINT_MUTATION_LABELS_CSV['studyID:sampleId'].apply(lambda x: str(x)[29:41])"
      ]
    },
    {
      "cell_type": "markdown",
      "metadata": {
        "id": "Q1yBZeOUkuGi"
      },
      "source": [
        "# SVM"
      ]
    },
    {
      "cell_type": "code",
      "execution_count": 8,
      "metadata": {
        "id": "wm69qTZnkv_w"
      },
      "outputs": [],
      "source": [
        "class SVMPredictor:\n",
        "  def __init__(self,C_values,gamma_values):\n",
        "    \"\"\"\n",
        "\n",
        "        Parameters\n",
        "        ----------\n",
        "        C_values : array\n",
        "            The value for hyperparamter C to test\n",
        "        gamma_values : array\n",
        "            The value for hyperparamter gamma to test\n",
        "    \"\"\"\n",
        "\n",
        "    self.Cs = C_values\n",
        "    self.gammas = gamma_values\n",
        "\n",
        "  def bootstrap_AUC_CIs(self,probs, labels):\n",
        "    \"\"\"Rus bootstrap to generate confidence interval\n",
        "\n",
        "        Parameters\n",
        "        ----------\n",
        "        probs : array\n",
        "            The prediciton from the decison function of the SVM for each slide\n",
        "        labels : array\n",
        "            The labels of the slides\n",
        "    \"\"\"\n",
        "\n",
        "    probs = np.array(probs)\n",
        "    labels = np.array(labels)\n",
        "    N_slide = len(probs)\n",
        "    index_list = np.arange(0, N_slide)\n",
        "    AUC_list = []\n",
        "    i = 0\n",
        "    while i < 1000:\n",
        "        sampled_indices = random.choices(index_list, k=N_slide)\n",
        "        sampled_probs = probs[sampled_indices]\n",
        "        sampled_labels = labels[sampled_indices]\n",
        "\n",
        "        if np.unique(sampled_labels).size == 1:   # reject the sample if there is only one class\n",
        "            continue\n",
        "\n",
        "        auc_bs = roc_auc_score(sampled_labels, sampled_probs)\n",
        "        AUC_list.append(auc_bs)\n",
        "        i += 1\n",
        "\n",
        "    assert len(AUC_list) == 1000\n",
        "    AUC_list = np.array(AUC_list)\n",
        "    auc_avg = np.mean(AUC_list)\n",
        "    auc_CIs = [np.percentile(AUC_list, 2.5), np.percentile(AUC_list, 97.5)]\n",
        "    return auc_avg, auc_CIs\n",
        "\n",
        "  def custom_validation(self,D,y,tridx,ttidx,validx):\n",
        "    \"\"\"Calucalte performance of SVM after checking validiation set and generates a ROC curve\n",
        "\n",
        "        Parameters\n",
        "        ----------\n",
        "        D : N * N array\n",
        "            The MMD distance matrix\n",
        "        y : array\n",
        "            labels of each slide : 1 = mutation, 0 = no mutation\n",
        "        tridx : array\n",
        "            indices of training set\n",
        "        ttidx : array \n",
        "            indices of test set\n",
        "        validx : array\n",
        "            indices of test set\n",
        "    \"\"\"\n",
        "    \n",
        "    max_C,max_gamma = self.best_hyperparams(self.Cs,self.gammas,D,y,tridx,validx)\n",
        "\n",
        "    clf = SVC(C = max_C, kernel = 'precomputed',class_weight='balanced')\n",
        "    K = np.exp(-max_gamma*D)\n",
        "\n",
        "    K_tr = K[tridx][:,tridx]\n",
        "    K_tt = K[ttidx][:,tridx]\n",
        "\n",
        "    y_tr = y[tridx]\n",
        "    y_tt = y[ttidx]\n",
        "\n",
        "    clf.fit(K_tr,y_tr)\n",
        "\n",
        "    z = clf.decision_function(K_tt)\n",
        "\n",
        "    #plot ROC curve\n",
        "    svm_fpr, svm_tpr, threshold = roc_curve(y_tt,z)\n",
        "    auc_svm = auc(svm_fpr,svm_tpr)\n",
        "\n",
        "    plt.figure(figsize=(5,5), dpi=100)\n",
        "    plt.plot(svm_fpr, svm_tpr, color=\"orange\",lw=2, linestyle='-', label='ROC Curve (area = %0.4f)' % auc_svm)\n",
        "    plt.plot([0, 1], [0, 1], color=\"navy\", lw=2, linestyle=\"--\")\n",
        "\n",
        "    plt.xlabel(\"False Postive Rate\")\n",
        "    plt.ylabel(\"True Postive Rate\")\n",
        "\n",
        "    plt.legend()\n",
        "    plt.savefig(\"roc_curve.png\")\n",
        "    plt.show()\n",
        "\n",
        "    auc_avg, auc_CIs = self.bootstrap_AUC_CIs(z,y_tt)\n",
        "    \n",
        "    auc_score = roc_auc_score(y_tt,z)\n",
        "\n",
        "    return auc_score,auc_CIs,max_C,max_gamma\n",
        "\n",
        "  def best_hyperparams(self,Cs,gammas,D,y,tridx,validx):\n",
        "    \"\"\"Picks best C and gamma value for validation set.\n",
        "\n",
        "        Parameters\n",
        "        ----------\n",
        "        Cs : array\n",
        "            The value for hyperparamter C to test\n",
        "        gammas : array\n",
        "            The value for hyperparamter gamma to test\n",
        "        D : N * N array\n",
        "            The MMD distance matrix\n",
        "        y : array\n",
        "            labels of each slide : 1 = mutation, 0 = no mutation\n",
        "        tridx : array\n",
        "            indices of training set\n",
        "        validx : array\n",
        "            indices of test set\n",
        "    \"\"\"\n",
        "\n",
        "    max_C = 0\n",
        "    max_gamma = 0\n",
        "    max_auc = -np.inf\n",
        "\n",
        "    for C in Cs:\n",
        "      clf = SVC(C = C, kernel = 'precomputed',class_weight='balanced')\n",
        "      for gamma in gammas:\n",
        "        K = np.exp(-gamma*D)\n",
        "\n",
        "        K_tr = K[tridx][:,tridx]\n",
        "        K_va = K[validx][:,tridx]\n",
        "\n",
        "        y_tr = y[tridx]\n",
        "        y_va = y[validx]\n",
        "\n",
        "        clf.fit(K_tr,y_tr)\n",
        "\n",
        "        z = clf.decision_function(K_va)\n",
        "\n",
        "        auc_score = roc_auc_score(y_va,z)\n",
        "\n",
        "        if(auc_score > max_auc):\n",
        "          max_auc = auc_score\n",
        "          max_C = C\n",
        "          max_gamma = gamma\n",
        "    return max_C,max_gamma"
      ]
    },
    {
      "cell_type": "markdown",
      "metadata": {
        "id": "RKQz49p_8uog"
      },
      "source": [
        "# Train Test Split"
      ]
    },
    {
      "cell_type": "code",
      "execution_count": 5,
      "metadata": {
        "id": "nbswy6qim9LU"
      },
      "outputs": [],
      "source": [
        "class TrainTestSplit:\n",
        "  def __init__(self,data_split):\n",
        "    \"\"\"\n",
        "\n",
        "        Parameters\n",
        "        ----------\n",
        "        data_split : array\n",
        "            The dictionary of which slides are in train, test, validation sets\n",
        "    \"\"\"\n",
        "    self.data_split = data_split\n",
        "\n",
        "  def genereate_train_val_test_indicies(self,slides):\n",
        "    \"\"\"Finds corresponding indices from a list of slides for the given data split\n",
        "\n",
        "        Parameters\n",
        "        ----------\n",
        "        slides : array\n",
        "            The list of slide IDs\n",
        "    \"\"\"\n",
        "\n",
        "    train_split = self.data_split.item()['train']\n",
        "    val_split = self.data_split.item()['val']\n",
        "    test_split = self.data_split.item()['test']\n",
        "\n",
        "    tridx_cst = []\n",
        "    validx_cst = []\n",
        "    ttidx_cst = []\n",
        "\n",
        "    for i in train_split:\n",
        "      if(i[:-11] not in slides):\n",
        "        continue\n",
        "      index = np.where(slides == i[:-11])[0][0]\n",
        "      tridx_cst.append(index)\n",
        "\n",
        "    for j in val_split:\n",
        "      if(j[:-11] not in slides):\n",
        "        continue\n",
        "\n",
        "      index = np.where(slides == j[:-11])[0][0]\n",
        "      validx_cst.append(index)\n",
        "\n",
        "    for k in test_split:\n",
        "      if(k[:-11] not in slides):\n",
        "        continue\n",
        "\n",
        "      index = np.where(slides == k[:-11])[0][0]\n",
        "      ttidx_cst.append(index)\n",
        "      \n",
        "    return tridx_cst,validx_cst,ttidx_cst"
      ]
    },
    {
      "cell_type": "markdown",
      "metadata": {
        "id": "zEnFq2ni8xbk"
      },
      "source": [
        "# Point Mutation Pred"
      ]
    },
    {
      "cell_type": "code",
      "execution_count": 11,
      "metadata": {
        "id": "AJ3Lxl1sl-fS"
      },
      "outputs": [],
      "source": [
        "class PointMutationPrediction:\n",
        "\n",
        "  def get_point_mutation_labels(self,mutation_type,slides):\n",
        "    \"\"\"Get mutation labels for each slide ID\n",
        "\n",
        "        Parameters\n",
        "        ----------\n",
        "        mutation_type : str\n",
        "            gene that has mutated e.g. 'TP53'\n",
        "        slides : array\n",
        "          The list of slide IDs\n",
        "    \"\"\"\n",
        "    \n",
        "    mutation = POINT_MUTATION_LABELS_CSV[['studyID:sampleId',mutation_type]]\n",
        "    mutation_filt = mutation.loc[mutation['studyID:sampleId'].isin(slides)]\n",
        "\n",
        "    order = []\n",
        "    for slide in slides:\n",
        "      slide_index = mutation_filt.index[mutation_filt['studyID:sampleId']==slide].tolist()\n",
        "\n",
        "      if(len(slide_index) == 0):\n",
        "        raise ValueError('Some label is missing for slide ' + str(slide)) \n",
        "      order.append(slide_index[0])\n",
        "\n",
        "    mutation_filt = mutation_filt.reindex(order)\n",
        "\n",
        "    y = mutation_filt[mutation_type].to_numpy()\n",
        "    return y\n",
        "\n",
        "  def predict_point_mutation(self,slides,D):\n",
        "    \"\"\"Predict the point mutation status using an SVM\n",
        "\n",
        "        Parameters\n",
        "        ----------\n",
        "        slides : array\n",
        "            The list of slide IDs\n",
        "        D : N * N array\n",
        "          MMD distance matrix\n",
        "    \"\"\"\n",
        "\n",
        "    y = self.get_point_mutation_labels('TP53',slides)\n",
        "\n",
        "    tridx_cst,validx_cst,ttidx_cst = TrainTestSplit(HUI_DATA_SPLIT).genereate_train_val_test_indicies(slides)\n",
        "\n",
        "    unique, counts = np.unique(y, return_counts=True)\n",
        "    label_dict = dict(zip(unique, counts))\n",
        "    negative = label_dict[0]\n",
        "    positive = label_dict[1]\n",
        "    neg_pos = '(' + str(negative) + ',' + str(positive) + ')'\n",
        "\n",
        "    auc, auc_CIs,max_C,max_gamma = SVMPredictor(C_VALUES,GAMMA_VALUES).custom_validation(\n",
        "                                 D=D,\n",
        "                                 y=y,\n",
        "                                 tridx=tridx_cst,\n",
        "                                 ttidx=ttidx_cst,\n",
        "                                 validx=validx_cst\n",
        "                                 )\n",
        "    \n",
        "    interval = str(round(auc_CIs[0],4)) + '-' + str(round(auc_CIs[1],4))\n",
        "    entry_MMD = str(round(auc,4)) + ' (' + interval + ')'\n",
        "      \n",
        "    return {'gene':'TP53','-/+':neg_pos,'C':max_C,'gamma':max_gamma,'AUCROC (CI)':entry_MMD}\n"
      ]
    },
    {
      "cell_type": "markdown",
      "metadata": {
        "id": "kRfpGnKptkTa"
      },
      "source": [
        "# Prediciton"
      ]
    },
    {
      "cell_type": "code",
      "execution_count": 12,
      "metadata": {
        "colab": {
          "base_uri": "https://localhost:8080/",
          "height": 544
        },
        "id": "8bFkwOFQtjHk",
        "outputId": "e8166a26-72b9-4915-bfa9-02ced4d1f640"
      },
      "outputs": [
        {
          "data": {
            "image/png": "[encoded data removed]",
            "text/plain": [
              "<Figure size 500x500 with 1 Axes>"
            ]
          },
          "metadata": {
            "needs_background": "light"
          },
          "output_type": "display_data"
        },
        {
          "data": {
            "text/plain": [
              "{'gene': 'TP53',\n",
              " '-/+': '(417,235)',\n",
              " 'C': 10000,\n",
              " 'gamma': 4.0,\n",
              " 'AUCROC (CI)': '0.7958 (0.6919-0.8861)'}"
            ]
          },
          "execution_count": 12,
          "metadata": {},
          "output_type": "execute_result"
        }
      ],
      "source": [
        "PointMutationPrediction().predict_point_mutation(idx,D)"
      ]
    }
  ],
  "metadata": {
    "colab": {
      "provenance": []
    },
    "kernelspec": {
      "display_name": "Python 3",
      "name": "python3"
    },
    "language_info": {
      "name": "python"
    }
  },
  "nbformat": 4,
  "nbformat_minor": 0
}
