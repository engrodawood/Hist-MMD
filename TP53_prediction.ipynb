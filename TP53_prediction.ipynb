{
  "nbformat": 4,
  "nbformat_minor": 0,
  "metadata": {
    "colab": {
      "provenance": []
    },
    "kernelspec": {
      "name": "python3",
      "display_name": "Python 3"
    },
    "language_info": {
      "name": "python"
    }
  },
  "cells": [
    {
      "cell_type": "markdown",
      "source": [
        "# Setup Environment"
      ],
      "metadata": {
        "id": "9VEEbu7IralK"
      }
    },
    {
      "cell_type": "code",
      "execution_count": 1,
      "metadata": {
        "id": "1i1blic7rZ32"
      },
      "outputs": [],
      "source": [
        "import pandas as pd\n",
        "import os\n",
        "import numpy as np\n",
        "from scipy import stats\n",
        "\n",
        "from sklearn.model_selection import StratifiedKFold\n",
        "from sklearn.svm import SVC\n",
        "from sklearn.svm import SVR\n",
        "from sklearn.metrics import roc_auc_score, auc, roc_curve,r2_score\n",
        "\n",
        "from sklearn.model_selection import train_test_split\n",
        "\n",
        "import random\n",
        "\n",
        "import matplotlib.pyplot as plt"
      ]
    },
    {
      "cell_type": "markdown",
      "source": [
        "Tunable hyperparameters"
      ],
      "metadata": {
        "id": "iGJaqyonrmVQ"
      }
    },
    {
      "cell_type": "code",
      "source": [
        "C_VALUES = [0.0001, 0.001, 0.1, 1, 10, 100, 1000,10000]\n",
        "GAMMA_VALUES = [4.0, 8.0, 16.0, 32.0, 64.0,128.0,256.0,512.0,1024.0]"
      ],
      "metadata": {
        "id": "nvSM20tqrdFJ"
      },
      "execution_count": 2,
      "outputs": []
    },
    {
      "cell_type": "markdown",
      "source": [
        "Import files"
      ],
      "metadata": {
        "id": "U4nW8t1arsNO"
      }
    },
    {
      "cell_type": "code",
      "source": [
        "HUI_DATA_SPLIT = np.load('/content/data_split.npy',allow_pickle=True)\n",
        "\n",
        "D_shuffl_20x_512x512_new_blur_10 = np.load('/content/drive/MyDrive/WSIMatrices/20x_512_512_noresize_ShuffleNet_fixed/blur_10/shuffl_20x_512x512_new_blur_10.0.npy')\n",
        "slides_652 = np.load('/content/drive/MyDrive/WSIMatrices/20x_512_512_noresize_ShuffleNet_fixed/slides_652.npy')\n",
        "\n",
        "POINT_MUTATION_LABELS_CSV = pd.read_csv('/content/sample_matrix_point_mutation.txt', delimiter = \"\\t\")\n",
        "POINT_MUTATION_LABELS_CSV['studyID:sampleId'] = POINT_MUTATION_LABELS_CSV['studyID:sampleId'].apply(lambda x: str(x)[29:41])"
      ],
      "metadata": {
        "id": "qj1htx3arjE0"
      },
      "execution_count": 3,
      "outputs": []
    },
    {
      "cell_type": "code",
      "source": [
        "HUI_DATA_SPLIT"
      ],
      "metadata": {
        "colab": {
          "base_uri": "https://localhost:8080/"
        },
        "id": "aPJ-l0IPwLum",
        "outputId": "6a7b027d-24b6-41d4-fabb-26cca575c957"
      },
      "execution_count": 10,
      "outputs": [
        {
          "output_type": "execute_result",
          "data": {
            "text/plain": [
              "array({'train': ['TCGA-BH-A0BG-01Z-00-DX1', 'TCGA-EW-A1IY-01Z-00-DX1', 'TCGA-BH-A0AY-01Z-00-DX1', 'TCGA-5T-A9QA-01Z-00-DX1', 'TCGA-EW-A2FW-01Z-00-DX1', 'TCGA-AR-A5QP-01Z-00-DX1', 'TCGA-AN-A0XN-01Z-00-DX1', 'TCGA-A2-A04Q-01Z-00-DX1', 'TCGA-A2-A0YL-01Z-00-DX1', 'TCGA-AO-A0J6-01Z-00-DX1', 'TCGA-EW-A1OV-01Z-00-DX1', 'TCGA-BH-A0B5-01Z-00-DX1', 'TCGA-BH-A0HU-01Z-00-DX1', 'TCGA-LD-A7W6-01Z-00-DX1', 'TCGA-BH-A0AZ-01Z-00-DX1', 'TCGA-S3-AA15-01Z-00-DX1', 'TCGA-E9-A5UO-01Z-00-DX1', 'TCGA-BH-A1F8-01Z-00-DX1', 'TCGA-D8-A147-01Z-00-DX1', 'TCGA-C8-A273-01Z-00-DX1', 'TCGA-BH-A18P-01Z-00-DX1', 'TCGA-AO-A03M-01Z-00-DX1', 'TCGA-BH-A0B7-01Z-00-DX1', 'TCGA-BH-A0BV-01Z-00-DX1', 'TCGA-E9-A2JS-01Z-00-DX1', 'TCGA-BH-A0DV-01Z-00-DX1', 'TCGA-GM-A2DD-01Z-00-DX1', 'TCGA-GM-A2D9-01Z-00-DX1', 'TCGA-AO-A0JC-01Z-00-DX1', 'TCGA-E2-A15J-01Z-00-DX1', 'TCGA-BH-A0DQ-01Z-00-DX1', 'TCGA-D8-A1JD-01Z-00-DX2', 'TCGA-E2-A14U-01Z-00-DX1', 'TCGA-AN-A0AR-01Z-00-DX1', 'TCGA-AO-A1KP-01Z-00-DX1', 'TCGA-E2-A14R-01Z-00-DX1', 'TCGA-EW-A1OW-01Z-00-DX1', 'TCGA-LL-A73Z-01Z-00-DX1', 'TCGA-E2-A14Q-01Z-00-DX1', 'TCGA-AR-A24X-01Z-00-DX1', 'TCGA-OL-A66O-01Z-00-DX1', 'TCGA-AN-A0XT-01Z-00-DX1', 'TCGA-B6-A0RI-01Z-00-DX1', 'TCGA-A7-A6VY-01Z-00-DX1', 'TCGA-AR-A24U-01Z-00-DX1', 'TCGA-D8-A27K-01Z-00-DX1', 'TCGA-AN-A0FT-01Z-00-DX1', 'TCGA-EW-A1P4-01Z-00-DX1', 'TCGA-AN-A0FX-01Z-00-DX1', 'TCGA-E2-A573-01Z-00-DX1', 'TCGA-AC-A2FM-01Z-00-DX1', 'TCGA-E9-A22A-01Z-00-DX1', 'TCGA-D8-A13Y-01Z-00-DX2', 'TCGA-AR-A1AK-01Z-00-DX1', 'TCGA-A2-A4S1-01Z-00-DX1', 'TCGA-E2-A1II-01Z-00-DX1', 'TCGA-C8-A1HN-01Z-00-DX1', 'TCGA-GM-A2DF-01Z-00-DX1', 'TCGA-BH-A0H9-01Z-00-DX1', 'TCGA-BH-A0BD-01Z-00-DX1', 'TCGA-A1-A0SH-01Z-00-DX1', 'TCGA-EW-A1P5-01Z-00-DX1', 'TCGA-B6-A1KN-01Z-00-DX1', 'TCGA-AR-A0U2-01Z-00-DX1', 'TCGA-AQ-A04L-01Z-00-DX1', 'TCGA-B6-A0IA-01Z-00-DX1', 'TCGA-AR-A2LO-01Z-00-DX1', 'TCGA-A1-A0SP-01Z-00-DX1', 'TCGA-E2-A1L6-01Z-00-DX1', 'TCGA-GM-A2DL-01Z-00-DX1', 'TCGA-E2-A9RU-01Z-00-DX1', 'TCGA-A2-A0ES-01Z-00-DX1', 'TCGA-AO-A03O-01Z-00-DX1', 'TCGA-EW-A1OY-01Z-00-DX1', 'TCGA-EW-A1PA-01Z-00-DX1', 'TCGA-BH-A18H-01Z-00-DX1', 'TCGA-B6-A0IG-01Z-00-DX1', 'TCGA-AC-A5XS-01Z-00-DX1', 'TCGA-BH-A0HI-01Z-00-DX1', 'TCGA-LL-A9Q3-01Z-00-DX1', 'TCGA-E2-A15G-01Z-00-DX1', 'TCGA-AC-A2BM-01Z-00-DX1', 'TCGA-E2-A1IN-01Z-00-DX1', 'TCGA-BH-A0DL-01Z-00-DX1', 'TCGA-A2-A3XY-01Z-00-DX1', 'TCGA-AR-A24S-01Z-00-DX1', 'TCGA-BH-A0E1-01Z-00-DX1', 'TCGA-AR-A254-01Z-00-DX1', 'TCGA-E2-A2P6-01Z-00-DX1', 'TCGA-EW-A2FS-01Z-00-DX1', 'TCGA-E2-A14Z-01Z-00-DX1', 'TCGA-EW-A2FR-01Z-00-DX1', 'TCGA-E2-A15O-01Z-00-DX1', 'TCGA-A7-A26I-01Z-00-DX1', 'TCGA-AC-A2QJ-01Z-00-DX1', 'TCGA-AC-A62V-01Z-00-DX1', 'TCGA-AO-A0J8-01Z-00-DX1', 'TCGA-A2-A0T7-01Z-00-DX1', 'TCGA-E2-A15S-01Z-00-DX1', 'TCGA-E2-A159-01Z-00-DX1', 'TCGA-B6-A0IN-01Z-00-DX1', 'TCGA-C8-A1HJ-01Z-00-DX1', 'TCGA-OL-A6VQ-01Z-00-DX1', 'TCGA-E9-A1R2-01Z-00-DX1', 'TCGA-C8-A1HG-01Z-00-DX1', 'TCGA-S3-AA10-01Z-00-DX1', 'TCGA-C8-A3M8-01Z-00-DX1', 'TCGA-B6-A0RT-01Z-00-DX1', 'TCGA-A2-A4RY-01Z-00-DX1', 'TCGA-EW-A1P3-01Z-00-DX1', 'TCGA-A7-A13E-01Z-00-DX1', 'TCGA-E2-A15L-01Z-00-DX1', 'TCGA-BH-A0W3-01Z-00-DX1', 'TCGA-LL-A50Y-01Z-00-DX1', 'TCGA-EW-A1OZ-01Z-00-DX1', 'TCGA-D8-A27F-01Z-00-DX1', 'TCGA-A2-A259-01Z-00-DX1', 'TCGA-E9-A54Y-01Z-00-DX1', 'TCGA-C8-A8HP-01Z-00-DX1', 'TCGA-EW-A1J6-01Z-00-DX1', 'TCGA-A2-A0SY-01Z-00-DX1', 'TCGA-C8-A132-01Z-00-DX1', 'TCGA-BH-A5IZ-01Z-00-DX1', 'TCGA-A2-A0SU-01Z-00-DX1', 'TCGA-B6-A1KC-01Z-00-DX1', 'TCGA-EW-A423-01Z-00-DX1', 'TCGA-AC-A2FK-01Z-00-DX1', 'TCGA-S3-A6ZG-01Z-00-DX1', 'TCGA-AN-A0FK-01Z-00-DX1', 'TCGA-OL-A66I-01Z-00-DX1', 'TCGA-BH-A0BS-01Z-00-DX1', 'TCGA-BH-A1ES-01Z-00-DX1', 'TCGA-BH-A0HY-01Z-00-DX1', 'TCGA-AQ-A7U7-01Z-00-DX1', 'TCGA-E2-A156-01Z-00-DX1', 'TCGA-E9-A1RC-01Z-00-DX1', 'TCGA-LL-A5YN-01Z-00-DX1', 'TCGA-PE-A5DD-01Z-00-DX1', 'TCGA-B6-A0X0-01Z-00-DX1', 'TCGA-A2-A0EX-01Z-00-DX1', 'TCGA-AN-A0AT-01Z-00-DX1', 'TCGA-BH-A0BW-01Z-00-DX1', 'TCGA-C8-A12U-01Z-00-DX1', 'TCGA-C8-A1HE-01Z-00-DX1', 'TCGA-A2-A0CP-01Z-00-DX1', 'TCGA-BH-A0E7-01Z-00-DX1', 'TCGA-A7-A6VW-01Z-00-DX1', 'TCGA-EW-A1PG-01Z-00-DX1', 'TCGA-AR-A0U1-01Z-00-DX1', 'TCGA-AO-A03N-01Z-00-DX1', 'TCGA-BH-A0B9-01Z-00-DX1', 'TCGA-A2-A25C-01Z-00-DX1', 'TCGA-BH-A0EB-01Z-00-DX1', 'TCGA-E2-A1IO-01Z-00-DX1', 'TCGA-AO-A0JB-01Z-00-DX1', 'TCGA-BH-A18I-01Z-00-DX1', 'TCGA-AO-A1KQ-01Z-00-DX1', 'TCGA-BH-A18V-01Z-00-DX1', 'TCGA-A2-A3Y0-01Z-00-DX1', 'TCGA-E9-A227-01Z-00-DX1', 'TCGA-AC-A2QI-01Z-00-DX1', 'TCGA-D8-A1X6-01Z-00-DX2', 'TCGA-AO-A12D-01Z-00-DX1', 'TCGA-GM-A2DB-01Z-00-DX1', 'TCGA-E9-A54X-01Z-00-DX1', 'TCGA-D8-A1XL-01Z-00-DX1', 'TCGA-AR-A1AJ-01Z-00-DX1', 'TCGA-D8-A27M-01Z-00-DX1', 'TCGA-EW-A1J1-01Z-00-DX1', 'TCGA-E2-A1B0-01Z-00-DX1', 'TCGA-BH-A0E2-01Z-00-DX1', 'TCGA-BH-A1FJ-01Z-00-DX1', 'TCGA-BH-A0DO-01Z-00-DX1', 'TCGA-OL-A5D7-01Z-00-DX1', 'TCGA-BH-A204-01Z-00-DX1', 'TCGA-A7-A4SE-01Z-00-DX1', 'TCGA-BH-A0BF-01Z-00-DX1', 'TCGA-S3-A6ZF-01Z-00-DX1', 'TCGA-A2-A04P-01Z-00-DX1', 'TCGA-BH-A0DK-01Z-00-DX1', 'TCGA-B6-A0RO-01Z-00-DX1', 'TCGA-B6-A0RU-01Z-00-DX1', 'TCGA-BH-A0DG-01Z-00-DX1', 'TCGA-BH-A0H7-01Z-00-DX1', 'TCGA-C8-A12M-01Z-00-DX1', 'TCGA-BH-A0C0-01Z-00-DX1', 'TCGA-C8-A134-01Z-00-DX1', 'TCGA-A2-A04Y-01Z-00-DX1', 'TCGA-A1-A0SI-01Z-00-DX1', 'TCGA-AR-A0TR-01Z-00-DX1', 'TCGA-E2-A14X-01Z-00-DX1', 'TCGA-A2-A25E-01Z-00-DX1', 'TCGA-E9-A6HE-01Z-00-DX1', 'TCGA-A2-A4S3-01Z-00-DX1', 'TCGA-AO-A126-01Z-00-DX1', 'TCGA-E2-A15C-01Z-00-DX1', 'TCGA-BH-A0DE-01Z-00-DX1', 'TCGA-AR-A0TT-01Z-00-DX1', 'TCGA-E2-A155-01Z-00-DX1', 'TCGA-BH-A0BJ-01Z-00-DX1', 'TCGA-BH-A18J-01Z-00-DX1', 'TCGA-AN-A0FF-01Z-00-DX1', 'TCGA-AC-A6IV-01Z-00-DX1', 'TCGA-3C-AALI-01Z-00-DX2', 'TCGA-A7-A0DB-01Z-00-DX1', 'TCGA-D8-A27W-01Z-00-DX2', 'TCGA-D8-A142-01Z-00-DX1', 'TCGA-D8-A1XW-01Z-00-DX1', 'TCGA-E9-A247-01Z-00-DX1', 'TCGA-BH-A0EE-01Z-00-DX1', 'TCGA-BH-A0DI-01Z-00-DX1', 'TCGA-AN-A0FY-01Z-00-DX1', 'TCGA-BH-A0BC-01Z-00-DX1', 'TCGA-A2-A25A-01Z-00-DX1', 'TCGA-D8-A1XZ-01Z-00-DX2', 'TCGA-D8-A1XB-01Z-00-DX2', 'TCGA-UU-A93S-01Z-00-DX1', 'TCGA-AR-A24T-01Z-00-DX1', 'TCGA-EW-A1J5-01Z-00-DX1', 'TCGA-A2-A0EU-01Z-00-DX1', 'TCGA-BH-A1FL-01Z-00-DX1', 'TCGA-E2-A56Z-01Z-00-DX1', 'TCGA-AC-A6IW-01Z-00-DX1', 'TCGA-BH-A0BQ-01Z-00-DX1', 'TCGA-BH-A0W4-01Z-00-DX1', 'TCGA-AN-A0XU-01Z-00-DX1', 'TCGA-EW-A1J3-01Z-00-DX1', 'TCGA-A2-A3XS-01Z-00-DX1', 'TCGA-C8-A12Z-01Z-00-DX1', 'TCGA-AR-A1AQ-01Z-00-DX1', 'TCGA-BH-A0AV-01Z-00-DX1', 'TCGA-E2-A10B-01Z-00-DX1', 'TCGA-E9-A1RG-01Z-00-DX1', 'TCGA-A7-A6VV-01Z-00-DX1', 'TCGA-HN-A2NL-01Z-00-DX1', 'TCGA-BH-A0H3-01Z-00-DX1', 'TCGA-B6-A0IE-01Z-00-DX1', 'TCGA-C8-A12Q-01Z-00-DX1', 'TCGA-LD-A9QF-01Z-00-DX1', 'TCGA-EW-A424-01Z-00-DX1', 'TCGA-D8-A1Y2-01Z-00-DX2', 'TCGA-LL-A5YP-01Z-00-DX1', 'TCGA-A2-A0YM-01Z-00-DX1', 'TCGA-C8-A1HK-01Z-00-DX1', 'TCGA-AC-A2B8-01Z-00-DX1', 'TCGA-E9-A22H-01Z-00-DX1', 'TCGA-EW-A1IZ-01Z-00-DX1', 'TCGA-AR-A1AV-01Z-00-DX1', 'TCGA-A2-A0T5-01Z-00-DX1', 'TCGA-AO-A0JE-01Z-00-DX1', 'TCGA-E2-A152-01Z-00-DX1', 'TCGA-AR-A251-01Z-00-DX1', 'TCGA-D8-A1J9-01Z-00-DX1', 'TCGA-C8-A1HI-01Z-00-DX1', 'TCGA-E2-A1IF-01Z-00-DX1', 'TCGA-E2-A15T-01Z-00-DX1', 'TCGA-LL-A5YM-01Z-00-DX1', 'TCGA-A1-A0SE-01Z-00-DX1', 'TCGA-EW-A1PE-01Z-00-DX1', 'TCGA-BH-A0B4-01Z-00-DX1', 'TCGA-A7-A2KD-01Z-00-DX1', 'TCGA-LL-A6FR-01Z-00-DX1', 'TCGA-D8-A13Z-01Z-00-DX1', 'TCGA-AO-A0JJ-01Z-00-DX1', 'TCGA-OL-A66P-01Z-00-DX1', 'TCGA-OL-A5D6-01Z-00-DX1', 'TCGA-C8-A130-01Z-00-DX1', 'TCGA-E2-A15M-01Z-00-DX1', 'TCGA-AR-A1AU-01Z-00-DX1', 'TCGA-AN-A0FN-01Z-00-DX1', 'TCGA-BH-A0HA-01Z-00-DX1', 'TCGA-A2-A0CU-01Z-00-DX1', 'TCGA-C8-A8HQ-01Z-00-DX1', 'TCGA-GM-A3XL-01Z-00-DX1', 'TCGA-C8-A26W-01Z-00-DX1', 'TCGA-D8-A27R-01Z-00-DX1', 'TCGA-A2-A04R-01Z-00-DX1', 'TCGA-AR-A250-01Z-00-DX1', 'TCGA-B6-A0I5-01Z-00-DX1', 'TCGA-A2-A3XW-01Z-00-DX1', 'TCGA-BH-A0HW-01Z-00-DX1', 'TCGA-AR-A1AR-01Z-00-DX1', 'TCGA-AC-A5EH-01Z-00-DX1', 'TCGA-OK-A5Q2-01Z-00-DX1', 'TCGA-GM-A3NW-01Z-00-DX1', 'TCGA-WT-AB44-01Z-00-DX1', 'TCGA-E2-A14N-01Z-00-DX1', 'TCGA-E2-A1L9-01Z-00-DX1', 'TCGA-AC-A7VB-01Z-00-DX1', 'TCGA-B6-A0WW-01Z-00-DX1', 'TCGA-BH-A0C3-01Z-00-DX1', 'TCGA-EW-A3U0-01Z-00-DX1', 'TCGA-E2-A10C-01Z-00-DX1', 'TCGA-BH-A0AW-01Z-00-DX1', 'TCGA-A2-A4RW-01Z-00-DX1', 'TCGA-Z7-A8R6-01Z-00-DX1', 'TCGA-AN-A0XL-01Z-00-DX1', 'TCGA-C8-A26Y-01Z-00-DX1', 'TCGA-A7-A0DA-01Z-00-DX1', 'TCGA-AR-A24Z-01Z-00-DX1', 'TCGA-OL-A5DA-01Z-00-DX1', 'TCGA-BH-A0GY-01Z-00-DX1', 'TCGA-AR-A0U3-01Z-00-DX1', 'TCGA-C8-A12L-01Z-00-DX1', 'TCGA-E2-A1LK-01Z-00-DX1', 'TCGA-A2-A04X-01Z-00-DX1', 'TCGA-D8-A1Y1-01Z-00-DX2', 'TCGA-A2-A0ET-01Z-00-DX1', 'TCGA-AR-A24K-01Z-00-DX1', 'TCGA-A2-A3XX-01Z-00-DX1', 'TCGA-EW-A1P8-01Z-00-DX1', 'TCGA-A7-A13D-01Z-00-DX1', 'TCGA-AO-A1KT-01Z-00-DX1', 'TCGA-OL-A66K-01Z-00-DX1', 'TCGA-E2-A15F-01Z-00-DX1', 'TCGA-BH-A0BT-01Z-00-DX1', 'TCGA-E2-A1LH-01Z-00-DX1', 'TCGA-A2-A0T2-01Z-00-DX1', 'TCGA-AR-A24R-01Z-00-DX1', 'TCGA-BH-A0B3-01Z-00-DX1', 'TCGA-E2-A1IG-01Z-00-DX1', 'TCGA-BH-A0DH-01Z-00-DX1', 'TCGA-OL-A6VO-01Z-00-DX1', 'TCGA-A2-A4RX-01Z-00-DX1', 'TCGA-D8-A1XF-01Z-00-DX1', 'TCGA-BH-A18U-01Z-00-DX1', 'TCGA-AO-A03L-01Z-00-DX1', 'TCGA-BH-A1FE-01Z-00-DX1', 'TCGA-C8-A26Z-01Z-00-DX1', 'TCGA-B6-A0IK-01Z-00-DX1', 'TCGA-E2-A10A-01Z-00-DX1', 'TCGA-B6-A0IO-01Z-00-DX1', 'TCGA-AN-A0FJ-01Z-00-DX1', 'TCGA-BH-A1F6-01Z-00-DX1', 'TCGA-A2-A3XU-01Z-00-DX1', 'TCGA-AR-A5QN-01Z-00-DX1', 'TCGA-AQ-A04H-01Z-00-DX1', 'TCGA-E9-A249-01Z-00-DX1', 'TCGA-B6-A0RM-01Z-00-DX1', 'TCGA-A2-A0CM-01Z-00-DX1', 'TCGA-B6-A0IB-01Z-00-DX1', 'TCGA-BH-A0HX-01Z-00-DX1', 'TCGA-EW-A6SC-01Z-00-DX1', 'TCGA-WT-AB41-01Z-00-DX1', 'TCGA-C8-A12Y-01Z-00-DX1', 'TCGA-D8-A141-01Z-00-DX1', 'TCGA-GM-A2DK-01Z-00-DX1', 'TCGA-D8-A143-01Z-00-DX1', 'TCGA-AO-A0JM-01Z-00-DX1', 'TCGA-OL-A97C-01Z-00-DX1', 'TCGA-E2-A14W-01Z-00-DX1', 'TCGA-GM-A2DO-01Z-00-DX1', 'TCGA-BH-A18T-01Z-00-DX1', 'TCGA-OL-A5RU-01Z-00-DX1', 'TCGA-A2-A1G6-01Z-00-DX1', 'TCGA-AR-A1AI-01Z-00-DX1', 'TCGA-EW-A1J2-01Z-00-DX1', 'TCGA-E2-A1LL-01Z-00-DX1', 'TCGA-BH-A2L8-01Z-00-DX1', 'TCGA-AR-A0U4-01Z-00-DX1', 'TCGA-AR-A0TQ-01Z-00-DX1', 'TCGA-E9-A22D-01Z-00-DX1', 'TCGA-A2-A1FZ-01Z-00-DX1', 'TCGA-A7-A4SF-01Z-00-DX1', 'TCGA-B6-A0RH-01Z-00-DX1', 'TCGA-AC-A2QH-01Z-00-DX1', 'TCGA-A2-A0EY-01Z-00-DX1', 'TCGA-C8-A12W-01Z-00-DX1', 'TCGA-C8-A135-01Z-00-DX1', 'TCGA-D8-A1X9-01Z-00-DX1', 'TCGA-AN-A0FZ-01Z-00-DX1', 'TCGA-E2-A105-01Z-00-DX1', 'TCGA-GM-A2DM-01Z-00-DX1', 'TCGA-BH-A0DX-01Z-00-DX1', 'TCGA-BH-A0C7-01Z-00-DX1', 'TCGA-AC-A2FB-01Z-00-DX1', 'TCGA-D8-A1JC-01Z-00-DX2', 'TCGA-B6-A0IP-01Z-00-DX1', 'TCGA-OL-A5RX-01Z-00-DX1', 'TCGA-AR-A1AX-01Z-00-DX1', 'TCGA-A2-A0D0-01Z-00-DX1', 'TCGA-AR-A2LK-01Z-00-DX1', 'TCGA-EW-A1PF-01Z-00-DX1', 'TCGA-BH-A0WA-01Z-00-DX1', 'TCGA-A7-A6VX-01Z-00-DX1', 'TCGA-AO-A03U-01Z-00-DX1', 'TCGA-D8-A1XD-01Z-00-DX1', 'TCGA-D8-A1XS-01Z-00-DX1', 'TCGA-AR-A1AY-01Z-00-DX1', 'TCGA-D8-A140-01Z-00-DX1', 'TCGA-E2-A1LE-01Z-00-DX1', 'TCGA-EW-A6SA-01Z-00-DX1', 'TCGA-AR-A0TP-01Z-00-DX1', 'TCGA-BH-A18S-01Z-00-DX1', 'TCGA-AN-A0XP-01Z-00-DX1', 'TCGA-C8-A1HM-01Z-00-DX1', 'TCGA-BH-A0DT-01Z-00-DX1', 'TCGA-EW-A1PB-01Z-00-DX1', 'TCGA-E2-A1LI-01Z-00-DX1', 'TCGA-E2-A1AZ-01Z-00-DX1', 'TCGA-AQ-A54N-01Z-00-DX1', 'TCGA-B6-A0IM-01Z-00-DX1', 'TCGA-BH-A0RX-01Z-00-DX1', 'TCGA-A2-A0YC-01Z-00-DX1', 'TCGA-A7-A13F-01Z-00-DX1', 'TCGA-C8-A275-01Z-00-DX1', 'TCGA-B6-A0X1-01Z-00-DX1', 'TCGA-E2-A1B6-01Z-00-DX1', 'TCGA-A2-A0CT-01Z-00-DX1', 'TCGA-E2-A14V-01Z-00-DX1', 'TCGA-BH-A0BZ-01Z-00-DX1', 'TCGA-D8-A1XR-01Z-00-DX1', 'TCGA-E9-A3X8-01Z-00-DX1', 'TCGA-S3-AA12-01Z-00-DX1', 'TCGA-AR-A24V-01Z-00-DX1', 'TCGA-C8-A27B-01Z-00-DX1', 'TCGA-BH-A202-01Z-00-DX1', 'TCGA-AC-A2FF-01Z-00-DX1', 'TCGA-OL-A5RW-01Z-00-DX1', 'TCGA-E2-A10E-01Z-00-DX1', 'TCGA-EW-A1P6-01Z-00-DX1', 'TCGA-AR-A0TV-01Z-00-DX1', 'TCGA-BH-A0H5-01Z-00-DX1', 'TCGA-GI-A2C8-01Z-00-DX1', 'TCGA-AO-A0J5-01Z-00-DX1', 'TCGA-OL-A5RY-01Z-00-DX1', 'TCGA-B6-A0I2-01Z-00-DX1', 'TCGA-BH-A0W5-01Z-00-DX1', 'TCGA-B6-A0WZ-01Z-00-DX1', 'TCGA-GM-A3NY-01Z-00-DX1', 'TCGA-AC-A2FO-01Z-00-DX1', 'TCGA-A2-A0YJ-01Z-00-DX1', 'TCGA-E2-A15A-01Z-00-DX1', 'TCGA-E2-A109-01Z-00-DX1', 'TCGA-XX-A899-01Z-00-DX1', 'TCGA-A1-A0SN-01Z-00-DX1', 'TCGA-A2-A0YH-01Z-00-DX1', 'TCGA-A2-A0YI-01Z-00-DX1', 'TCGA-AC-A62X-01Z-00-DX1', 'TCGA-E9-A248-01Z-00-DX1', 'TCGA-LL-A442-01Z-00-DX1', 'TCGA-B6-A0WT-01Z-00-DX1', 'TCGA-A2-A0YT-01Z-00-DX1', 'TCGA-E2-A15H-01Z-00-DX1', 'TCGA-AR-A1AW-01Z-00-DX1', 'TCGA-AR-A0TY-01Z-00-DX1', 'TCGA-A2-A04V-01Z-00-DX1', 'TCGA-GM-A2DH-01Z-00-DX1', 'TCGA-3C-AALK-01Z-00-DX1', 'TCGA-C8-A12V-01Z-00-DX1', 'TCGA-B6-A0X4-01Z-00-DX1', 'TCGA-AN-A0FV-01Z-00-DX1', 'TCGA-AR-A24N-01Z-00-DX1', 'TCGA-BH-A18N-01Z-00-DX1', 'TCGA-AN-A0AL-01Z-00-DX1', 'TCGA-AQ-A04J-01Z-00-DX1', 'TCGA-BH-A1FC-01Z-00-DX1', 'TCGA-E2-A14T-01Z-00-DX1', 'TCGA-LD-A7W5-01Z-00-DX1', 'TCGA-C8-A26X-01Z-00-DX1', 'TCGA-EW-A6S9-01Z-00-DX1'], 'val': ['TCGA-AC-A3QP-01Z-00-DX1', 'TCGA-BH-A0DD-01Z-00-DX1', 'TCGA-E9-A5FK-01Z-00-DX1', 'TCGA-AC-A7VC-01Z-00-DX1', 'TCGA-E9-A244-01Z-00-DX1', 'TCGA-GM-A2DC-01Z-00-DX1', 'TCGA-BH-A1FG-01Z-00-DX1', 'TCGA-AC-A3YJ-01Z-00-DX1', 'TCGA-AC-A6NO-01Z-00-DX1', 'TCGA-A2-A04T-01Z-00-DX1', 'TCGA-S3-A6ZH-01Z-00-DX1', 'TCGA-E2-A154-01Z-00-DX1', 'TCGA-B6-A0RV-01Z-00-DX1', 'TCGA-AC-A3TM-01Z-00-DX1', 'TCGA-BH-A0GZ-01Z-00-DX1', 'TCGA-EW-A1P7-01Z-00-DX1', 'TCGA-A2-A0YE-01Z-00-DX1', 'TCGA-A7-A0CH-01Z-00-DX1', 'TCGA-A2-A4S0-01Z-00-DX1', 'TCGA-A2-A25D-01Z-00-DX1', 'TCGA-A2-A04U-01Z-00-DX1', 'TCGA-AN-A0AJ-01Z-00-DX1', 'TCGA-A2-A0CX-01Z-00-DX1', 'TCGA-BH-A0W7-01Z-00-DX1', 'TCGA-A2-A3XT-01Z-00-DX1', 'TCGA-GM-A3XG-01Z-00-DX1', 'TCGA-BH-A1F2-01Z-00-DX1', 'TCGA-A1-A0SM-01Z-00-DX1', 'TCGA-BH-A0HQ-01Z-00-DX1', 'TCGA-AR-A24L-01Z-00-DX1', 'TCGA-GM-A2DI-01Z-00-DX1', 'TCGA-AN-A0AS-01Z-00-DX1', 'TCGA-AN-A0AM-01Z-00-DX1', 'TCGA-AO-A12B-01Z-00-DX1', 'TCGA-EW-A6SD-01Z-00-DX1', 'TCGA-E2-A2P5-01Z-00-DX1', 'TCGA-A2-A3XV-01Z-00-DX1', 'TCGA-AO-A0JF-01Z-00-DX1', 'TCGA-B6-A0WV-01Z-00-DX1', 'TCGA-B6-A0RE-01Z-00-DX1', 'TCGA-AR-A1AH-01Z-00-DX1', 'TCGA-C8-A1HL-01Z-00-DX1', 'TCGA-BH-A0C1-01Z-00-DX1', 'TCGA-B6-A0WY-01Z-00-DX1', 'TCGA-A2-A25B-01Z-00-DX1', 'TCGA-E2-A15R-01Z-00-DX1', 'TCGA-D8-A3Z6-01Z-00-DX1', 'TCGA-C8-A26V-01Z-00-DX1', 'TCGA-AR-A256-01Z-00-DX1', 'TCGA-A1-A0SQ-01Z-00-DX1', 'TCGA-AC-A2BK-01Z-00-DX1', 'TCGA-BH-A0EI-01Z-00-DX1', 'TCGA-A7-A26J-01Z-00-DX1', 'TCGA-AR-A2LE-01Z-00-DX1', 'TCGA-E2-A15P-01Z-00-DX1', 'TCGA-AO-A0J3-01Z-00-DX1', 'TCGA-C8-A27A-01Z-00-DX1', 'TCGA-B6-A0X5-01Z-00-DX1', 'TCGA-A2-A0T6-01Z-00-DX1', 'TCGA-E2-A14S-01Z-00-DX1', 'TCGA-UL-AAZ6-01Z-00-DX1', 'TCGA-A2-A0EO-01Z-00-DX1', 'TCGA-LL-A6FQ-01Z-00-DX1', 'TCGA-BH-A18F-01Z-00-DX1', 'TCGA-BH-A0BR-01Z-00-DX1', 'TCGA-AC-A3OD-01Z-00-DX1', 'TCGA-BH-A18Q-01Z-00-DX1', 'TCGA-A1-A0SB-01Z-00-DX1', 'TCGA-A2-A0EW-01Z-00-DX1', 'TCGA-AO-A03T-01Z-00-DX1', 'TCGA-B6-A0RL-01Z-00-DX1', 'TCGA-A2-A0T4-01Z-00-DX1', 'TCGA-C8-A1HF-01Z-00-DX1', 'TCGA-3C-AALJ-01Z-00-DX1', 'TCGA-E9-A295-01Z-00-DX1', 'TCGA-AQ-A54O-01Z-00-DX1', 'TCGA-AO-A0J7-01Z-00-DX1', 'TCGA-AN-A0AK-01Z-00-DX1', 'TCGA-B6-A0WS-01Z-00-DX1', 'TCGA-C8-A12T-01Z-00-DX1', 'TCGA-A2-A0CL-01Z-00-DX1', 'TCGA-A2-A0SV-01Z-00-DX1', 'TCGA-A2-A0CS-01Z-00-DX1', 'TCGA-A2-A3KC-01Z-00-DX1', 'TCGA-AC-A3QQ-01Z-00-DX1', 'TCGA-A2-A4S2-01Z-00-DX1', 'TCGA-LQ-A4E4-01Z-00-DX1', 'TCGA-GM-A3XN-01Z-00-DX1', 'TCGA-AO-A12H-01Z-00-DX1', 'TCGA-LL-A73Y-01Z-00-DX1', 'TCGA-BH-A1FU-01Z-00-DX1', 'TCGA-A2-A1FX-01Z-00-DX1', 'TCGA-A2-A0EQ-01Z-00-DX1', 'TCGA-OL-A5RV-01Z-00-DX1', 'TCGA-A2-A1G4-01Z-00-DX1', 'TCGA-AR-A24M-01Z-00-DX1', 'TCGA-B6-A0RG-01Z-00-DX1', 'TCGA-B6-A1KF-01Z-00-DX1', 'TCGA-S3-AA14-01Z-00-DX1'], 'test': ['TCGA-E9-A24A-01Z-00-DX1', 'TCGA-EW-A1PC-01Z-00-DX1', 'TCGA-AR-A2LM-01Z-00-DX1', 'TCGA-BH-A0B0-01Z-00-DX1', 'TCGA-A2-A0YF-01Z-00-DX1', 'TCGA-A2-A1G0-01Z-00-DX1', 'TCGA-AC-A2FG-01Z-00-DX1', 'TCGA-AR-A0TW-01Z-00-DX1', 'TCGA-A1-A0SK-01Z-00-DX1', 'TCGA-BH-A18L-01Z-00-DX1', 'TCGA-A2-A3XZ-01Z-00-DX1', 'TCGA-BH-A28Q-01Z-00-DX1', 'TCGA-E9-A22B-01Z-00-DX1', 'TCGA-E2-A1LA-01Z-00-DX1', 'TCGA-AR-A24H-01Z-00-DX1', 'TCGA-BH-A0E6-01Z-00-DX1', 'TCGA-C8-A8HR-01Z-00-DX1', 'TCGA-E9-A226-01Z-00-DX1', 'TCGA-E9-A245-01Z-00-DX1', 'TCGA-EW-A3E8-01Z-00-DX1', 'TCGA-E9-A1R7-01Z-00-DX1', 'TCGA-BH-A0DP-01Z-00-DX1', 'TCGA-BH-A0E0-01Z-00-DX1', 'TCGA-E2-A1BD-01Z-00-DX1', 'TCGA-OL-A66N-01Z-00-DX1', 'TCGA-AO-A0JL-01Z-00-DX1', 'TCGA-LL-A8F5-01Z-00-DX1', 'TCGA-AR-A252-01Z-00-DX1', 'TCGA-E2-A1L7-01Z-00-DX1', 'TCGA-E2-A150-01Z-00-DX1', 'TCGA-EW-A1PH-01Z-00-DX1', 'TCGA-EW-A6SB-01Z-00-DX1', 'TCGA-BH-A1F5-01Z-00-DX1', 'TCGA-LD-A66U-01Z-00-DX1', 'TCGA-E2-A14Y-01Z-00-DX1', 'TCGA-LL-A441-01Z-00-DX1', 'TCGA-E9-A22G-01Z-00-DX1', 'TCGA-E2-A574-01Z-00-DX1', 'TCGA-E2-A570-01Z-00-DX1', 'TCGA-BH-A0BA-01Z-00-DX1', 'TCGA-E2-A1LB-01Z-00-DX1', 'TCGA-B6-A0RN-01Z-00-DX1', 'TCGA-E9-A5FL-01Z-00-DX1', 'TCGA-E2-A158-01Z-00-DX1', 'TCGA-C8-A274-01Z-00-DX1', 'TCGA-AO-A0JD-01Z-00-DX1', 'TCGA-LL-A5YO-01Z-00-DX1', 'TCGA-BH-A1FR-01Z-00-DX1', 'TCGA-BH-A1FB-01Z-00-DX1', 'TCGA-LL-A440-01Z-00-DX1', 'TCGA-OL-A5S0-01Z-00-DX1', 'TCGA-E9-A3HO-01Z-00-DX1', 'TCGA-D8-A1J8-01Z-00-DX1', 'TCGA-E2-A14P-01Z-00-DX1', 'TCGA-AQ-A0Y5-01Z-00-DX1', 'TCGA-OL-A5D8-01Z-00-DX1', 'TCGA-E9-A22E-01Z-00-DX1', 'TCGA-BH-A1FM-01Z-00-DX1', 'TCGA-LL-A740-01Z-00-DX1', 'TCGA-E9-A229-01Z-00-DX1', 'TCGA-AN-A0FL-01Z-00-DX1', 'TCGA-AO-A1KO-01Z-00-DX1', 'TCGA-BH-A0HB-01Z-00-DX1', 'TCGA-AO-A1KR-01Z-00-DX1', 'TCGA-A2-A0CQ-01Z-00-DX1', 'TCGA-B6-A0I1-01Z-00-DX1', 'TCGA-B6-A0IC-01Z-00-DX1', 'TCGA-AO-A1KS-01Z-00-DX1', 'TCGA-EW-A2FV-01Z-00-DX1', 'TCGA-AO-A0JI-01Z-00-DX1', 'TCGA-E9-A3Q9-01Z-00-DX1', 'TCGA-D8-A1XG-01Z-00-DX1', 'TCGA-C8-A131-01Z-00-DX1', 'TCGA-BH-A0H0-01Z-00-DX1', 'TCGA-E2-A15D-01Z-00-DX1', 'TCGA-BH-A201-01Z-00-DX1', 'TCGA-A2-A0CW-01Z-00-DX1', 'TCGA-S3-AA0Z-01Z-00-DX1', 'TCGA-BH-A0AU-01Z-00-DX1', 'TCGA-E9-A1R0-01Z-00-DX1', 'TCGA-E2-A14O-01Z-00-DX1', 'TCGA-EW-A1P1-01Z-00-DX1', 'TCGA-C8-A12O-01Z-00-DX1', 'TCGA-E9-A228-01Z-00-DX1', 'TCGA-C8-A1HO-01Z-00-DX1', 'TCGA-D8-A1Y3-01Z-00-DX1', 'TCGA-AO-A0J9-01Z-00-DX1', 'TCGA-GM-A2DN-01Z-00-DX1', 'TCGA-A2-A0EV-01Z-00-DX1', 'TCGA-LL-A7T0-01Z-00-DX1', 'TCGA-AR-A24Q-01Z-00-DX1', 'TCGA-LL-A7SZ-01Z-00-DX1', 'TCGA-B6-A0RS-01Z-00-DX1', 'TCGA-BH-A0DZ-01Z-00-DX1', 'TCGA-AO-A12A-01Z-00-DX1', 'TCGA-BH-A1FN-01Z-00-DX1', 'TCGA-A7-A0CE-01Z-00-DX1', 'TCGA-A7-A13G-01Z-00-DX2', 'TCGA-A2-A1FV-01Z-00-DX1']},\n",
              "      dtype=object)"
            ]
          },
          "metadata": {},
          "execution_count": 10
        }
      ]
    },
    {
      "cell_type": "markdown",
      "metadata": {
        "id": "Q1yBZeOUkuGi"
      },
      "source": [
        "# SVM"
      ]
    },
    {
      "cell_type": "code",
      "execution_count": 8,
      "metadata": {
        "id": "wm69qTZnkv_w"
      },
      "outputs": [],
      "source": [
        "class SVMPredictor:\n",
        "  def __init__(self,C_values,gamma_values):\n",
        "    \"\"\"\n",
        "\n",
        "        Parameters\n",
        "        ----------\n",
        "        C_values : array\n",
        "            The value for hyperparamter C to test\n",
        "        gamma_values : array\n",
        "            The value for hyperparamter gamma to test\n",
        "    \"\"\"\n",
        "\n",
        "    self.Cs = C_values\n",
        "    self.gammas = gamma_values\n",
        "\n",
        "  def bootstrap_AUC_CIs(self,probs, labels):\n",
        "    \"\"\"Rus bootstrap to generate confidence interval\n",
        "\n",
        "        Parameters\n",
        "        ----------\n",
        "        probs : array\n",
        "            The prediciton from the decison function of the SVM for each slide\n",
        "        labels : array\n",
        "            The labels of the slides\n",
        "    \"\"\"\n",
        "\n",
        "    probs = np.array(probs)\n",
        "    labels = np.array(labels)\n",
        "    N_slide = len(probs)\n",
        "    index_list = np.arange(0, N_slide)\n",
        "    AUC_list = []\n",
        "    i = 0\n",
        "    while i < 1000:\n",
        "        sampled_indices = random.choices(index_list, k=N_slide)\n",
        "        sampled_probs = probs[sampled_indices]\n",
        "        sampled_labels = labels[sampled_indices]\n",
        "\n",
        "        if np.unique(sampled_labels).size == 1:   # reject the sample if there is only one class\n",
        "            continue\n",
        "\n",
        "        auc_bs = roc_auc_score(sampled_labels, sampled_probs)\n",
        "        AUC_list.append(auc_bs)\n",
        "        i += 1\n",
        "\n",
        "    assert len(AUC_list) == 1000\n",
        "    AUC_list = np.array(AUC_list)\n",
        "    auc_avg = np.mean(AUC_list)\n",
        "    auc_CIs = [np.percentile(AUC_list, 2.5), np.percentile(AUC_list, 97.5)]\n",
        "    return auc_avg, auc_CIs\n",
        "\n",
        "  def custom_validation(self,D,y,tridx,ttidx,validx):\n",
        "    \"\"\"Calucalte pefroemnce of SVM after checking validiation set and generates a ROC curve\n",
        "\n",
        "        Parameters\n",
        "        ----------\n",
        "        D : N * N array\n",
        "            The MMD distance matrix\n",
        "        y : array\n",
        "            labels of each slide : 1 = mutation, 0 = no mutation\n",
        "        tridx : array\n",
        "            indices of training set\n",
        "        ttidx : array \n",
        "            indices of test set\n",
        "        validx : array\n",
        "            indices of test set\n",
        "    \"\"\"\n",
        "    \n",
        "    max_C,max_gamma = self.best_hyperparams(self.Cs,self.gammas,D,y,tridx,validx)\n",
        "\n",
        "    clf = SVC(C = max_C, kernel = 'precomputed',class_weight='balanced')\n",
        "    K = np.exp(-max_gamma*D)\n",
        "\n",
        "    K_tr = K[tridx][:,tridx]\n",
        "    K_tt = K[ttidx][:,tridx]\n",
        "\n",
        "    y_tr = y[tridx]\n",
        "    y_tt = y[ttidx]\n",
        "\n",
        "    clf.fit(K_tr,y_tr)\n",
        "\n",
        "    z = clf.decision_function(K_tt)\n",
        "\n",
        "    #plot ROC curve\n",
        "    svm_fpr, svm_tpr, threshold = roc_curve(y_tt,z)\n",
        "    auc_svm = auc(svm_fpr,svm_tpr)\n",
        "\n",
        "    plt.figure(figsize=(5,5), dpi=100)\n",
        "    plt.plot(svm_fpr, svm_tpr, color=\"orange\",lw=2, linestyle='-', label='ROC Curve (area = %0.4f)' % auc_svm)\n",
        "    plt.plot([0, 1], [0, 1], color=\"navy\", lw=2, linestyle=\"--\")\n",
        "\n",
        "    plt.xlabel(\"False Postive Rate\")\n",
        "    plt.ylabel(\"True Postive Rate\")\n",
        "\n",
        "    plt.legend()\n",
        "    plt.savefig(\"roc_curve.png\")\n",
        "    plt.show()\n",
        "\n",
        "    auc_avg, auc_CIs = self.bootstrap_AUC_CIs(z,y_tt)\n",
        "    \n",
        "    auc_score = roc_auc_score(y_tt,z)\n",
        "\n",
        "    return auc_score,auc_CIs,max_C,max_gamma\n",
        "\n",
        "  def best_hyperparams(self,Cs,gammas,D,y,tridx,validx):\n",
        "    \"\"\"Picks best C and gamma value for validation set.\n",
        "\n",
        "        Parameters\n",
        "        ----------\n",
        "        Cs : array\n",
        "            The value for hyperparamter C to test\n",
        "        gammas : array\n",
        "            The value for hyperparamter gamma to test\n",
        "        D : N * N array\n",
        "            The MMD distance matrix\n",
        "        y : array\n",
        "            labels of each slide : 1 = mutation, 0 = no mutation\n",
        "        tridx : array\n",
        "            indices of training set\n",
        "        validx : array\n",
        "            indices of test set\n",
        "    \"\"\"\n",
        "\n",
        "    max_C = 0\n",
        "    max_gamma = 0\n",
        "    max_auc = -np.inf\n",
        "\n",
        "    for C in Cs:\n",
        "      clf = SVC(C = C, kernel = 'precomputed',class_weight='balanced')\n",
        "      for gamma in gammas:\n",
        "        K = np.exp(-gamma*D)\n",
        "\n",
        "        K_tr = K[tridx][:,tridx]\n",
        "        K_va = K[validx][:,tridx]\n",
        "\n",
        "        y_tr = y[tridx]\n",
        "        y_va = y[validx]\n",
        "\n",
        "        clf.fit(K_tr,y_tr)\n",
        "\n",
        "        z = clf.decision_function(K_va)\n",
        "\n",
        "        auc_score = roc_auc_score(y_va,z)\n",
        "\n",
        "        if(auc_score > max_auc):\n",
        "          max_auc = auc_score\n",
        "          max_C = C\n",
        "          max_gamma = gamma\n",
        "    return max_C,max_gamma"
      ]
    },
    {
      "cell_type": "markdown",
      "metadata": {
        "id": "RKQz49p_8uog"
      },
      "source": [
        "# Train Test Split"
      ]
    },
    {
      "cell_type": "code",
      "execution_count": 5,
      "metadata": {
        "id": "nbswy6qim9LU"
      },
      "outputs": [],
      "source": [
        "class TrainTestSplit:\n",
        "  def __init__(self,data_split):\n",
        "    \"\"\"\n",
        "\n",
        "        Parameters\n",
        "        ----------\n",
        "        data_split : array\n",
        "            The dictionary of which slides are in train, test, validation sets\n",
        "    \"\"\"\n",
        "    self.data_split = data_split\n",
        "\n",
        "  def genereate_train_val_test_indicies(self,slides):\n",
        "    \"\"\"Finds corresponding indices from a list of slides for the given data split\n",
        "\n",
        "        Parameters\n",
        "        ----------\n",
        "        slides : array\n",
        "            The list of slide IDs\n",
        "    \"\"\"\n",
        "\n",
        "    train_split = self.data_split.item()['train']\n",
        "    val_split = self.data_split.item()['val']\n",
        "    test_split = self.data_split.item()['test']\n",
        "\n",
        "    tridx_cst = []\n",
        "    validx_cst = []\n",
        "    ttidx_cst = []\n",
        "\n",
        "    for i in train_split:\n",
        "      if(i[:-11] not in slides):\n",
        "        continue\n",
        "      index = np.where(slides == i[:-11])[0][0]\n",
        "      tridx_cst.append(index)\n",
        "\n",
        "    for j in val_split:\n",
        "      if(j[:-11] not in slides):\n",
        "        continue\n",
        "\n",
        "      index = np.where(slides == j[:-11])[0][0]\n",
        "      validx_cst.append(index)\n",
        "\n",
        "    for k in test_split:\n",
        "      if(k[:-11] not in slides):\n",
        "        continue\n",
        "\n",
        "      index = np.where(slides == k[:-11])[0][0]\n",
        "      ttidx_cst.append(index)\n",
        "      \n",
        "    return tridx_cst,validx_cst,ttidx_cst"
      ]
    },
    {
      "cell_type": "markdown",
      "metadata": {
        "id": "zEnFq2ni8xbk"
      },
      "source": [
        "# Point Mutation Pred"
      ]
    },
    {
      "cell_type": "code",
      "execution_count": 11,
      "metadata": {
        "id": "AJ3Lxl1sl-fS"
      },
      "outputs": [],
      "source": [
        "class PointMutationPrediction:\n",
        "\n",
        "  def get_point_mutation_labels(self,mutation_type,slides):\n",
        "    \"\"\"Get mutation labels for each slide ID\n",
        "\n",
        "        Parameters\n",
        "        ----------\n",
        "        mutation_type : str\n",
        "            gene that has mutated e.g. 'TP53'\n",
        "        slides : array\n",
        "          The list of slide IDs\n",
        "    \"\"\"\n",
        "    \n",
        "    mutation = POINT_MUTATION_LABELS_CSV[['studyID:sampleId',mutation_type]]\n",
        "    mutation_filt = mutation.loc[mutation['studyID:sampleId'].isin(slides)]\n",
        "\n",
        "    order = []\n",
        "    for slide in slides:\n",
        "      slide_index = mutation_filt.index[mutation_filt['studyID:sampleId']==slide].tolist()\n",
        "\n",
        "      if(len(slide_index) == 0):\n",
        "        raise ValueError('Some label is missing for slide ' + str(slide)) \n",
        "      order.append(slide_index[0])\n",
        "\n",
        "    mutation_filt = mutation_filt.reindex(order)\n",
        "\n",
        "    y = mutation_filt[mutation_type].to_numpy()\n",
        "    return y\n",
        "\n",
        "  def predict_point_mutation(self,slides,D):\n",
        "    \"\"\"Predict the point mutation status using an SVM\n",
        "\n",
        "        Parameters\n",
        "        ----------\n",
        "        slides : array\n",
        "            The list of slide IDs\n",
        "        D : N * N array\n",
        "          MMD distance matrix\n",
        "    \"\"\"\n",
        "\n",
        "    y = self.get_point_mutation_labels('TP53',slides)\n",
        "\n",
        "    tridx_cst,validx_cst,ttidx_cst = TrainTestSplit(HUI_DATA_SPLIT).genereate_train_val_test_indicies(slides)\n",
        "\n",
        "    unique, counts = np.unique(y, return_counts=True)\n",
        "    label_dict = dict(zip(unique, counts))\n",
        "    negative = label_dict[0]\n",
        "    positive = label_dict[1]\n",
        "    neg_pos = '(' + str(negative) + ',' + str(positive) + ')'\n",
        "\n",
        "    auc, auc_CIs,max_C,max_gamma = SVMPredictor(C_VALUES,GAMMA_VALUES).custom_validation(\n",
        "                                 D=D,\n",
        "                                 y=y,\n",
        "                                 tridx=tridx_cst,\n",
        "                                 ttidx=ttidx_cst,\n",
        "                                 validx=validx_cst\n",
        "                                 )\n",
        "    \n",
        "    interval = str(round(auc_CIs[0],4)) + '-' + str(round(auc_CIs[1],4))\n",
        "    entry_MMD = str(round(auc,4)) + ' (' + interval + ')'\n",
        "      \n",
        "    return {'gene':'TP53','-/+':neg_pos,'C':max_C,'gamma':max_gamma,'AUCROC (CI)':entry_MMD}\n"
      ]
    },
    {
      "cell_type": "markdown",
      "source": [
        "# Prediciton"
      ],
      "metadata": {
        "id": "kRfpGnKptkTa"
      }
    },
    {
      "cell_type": "code",
      "source": [
        "PointMutationPrediction().predict_point_mutation(slides_652,D_shuffl_20x_512x512_new_blur_10)"
      ],
      "metadata": {
        "colab": {
          "base_uri": "https://localhost:8080/",
          "height": 544
        },
        "id": "8bFkwOFQtjHk",
        "outputId": "e8166a26-72b9-4915-bfa9-02ced4d1f640"
      },
      "execution_count": 12,
      "outputs": [
        {
          "output_type": "display_data",
          "data": {
            "text/plain": [
              "<Figure size 500x500 with 1 Axes>"
            ],
            "image/png": "[encoded data removed]"
          },
          "metadata": {
            "needs_background": "light"
          }
        },
        {
          "output_type": "execute_result",
          "data": {
            "text/plain": [
              "{'gene': 'TP53',\n",
              " '-/+': '(417,235)',\n",
              " 'C': 10000,\n",
              " 'gamma': 4.0,\n",
              " 'AUCROC (CI)': '0.7958 (0.6919-0.8861)'}"
            ]
          },
          "metadata": {},
          "execution_count": 12
        }
      ]
    }
  ]
}